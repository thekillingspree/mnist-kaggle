{
  "nbformat": 4,
  "nbformat_minor": 0,
  "metadata": {
    "colab": {
      "name": "mnist.ipynb",
      "provenance": [],
      "collapsed_sections": []
    },
    "kernelspec": {
      "name": "python3",
      "display_name": "Python 3"
    },
    "accelerator": "TPU"
  },
  "cells": [
    {
      "cell_type": "code",
      "metadata": {
        "id": "xQ0iU73yt6vl",
        "colab_type": "code",
        "colab": {}
      },
      "source": [
        "import tensorflow as tf\n",
        "from tensorflow.keras.preprocessing.image import ImageDataGenerator\n",
        "import numpy as np\n",
        "from tensorflow.keras.models import Sequential\n",
        "from tensorflow.keras.layers import Conv2D, MaxPooling2D\n",
        "from tensorflow.keras.layers import Dense, Dropout, Flatten, BatchNormalization"
      ],
      "execution_count": 0,
      "outputs": []
    },
    {
      "cell_type": "code",
      "metadata": {
        "id": "80D4S3xWuMoY",
        "colab_type": "code",
        "outputId": "7230387a-ff64-44c7-8a57-ed4245ccf35c",
        "colab": {
          "base_uri": "https://localhost:8080/",
          "height": 51
        }
      },
      "source": [
        "mnist = tf.keras.datasets.mnist\n",
        "(x_train, y_train), (x_test, y_test) = mnist.load_data()"
      ],
      "execution_count": 0,
      "outputs": [
        {
          "output_type": "stream",
          "text": [
            "Downloading data from https://storage.googleapis.com/tensorflow/tf-keras-datasets/mnist.npz\n",
            "11493376/11490434 [==============================] - 0s 0us/step\n"
          ],
          "name": "stdout"
        }
      ]
    },
    {
      "cell_type": "code",
      "metadata": {
        "id": "kOfAfQB5uVKu",
        "colab_type": "code",
        "colab": {}
      },
      "source": [
        "x_train = x_train.reshape(x_train.shape[0], 28, 28, 1)\n",
        "x_test = x_test.reshape(x_test.shape[0], 28, 28, 1)\n",
        "\n",
        "x_train = x_train.astype('float32')\n",
        "x_test = x_test.astype('float32')\n",
        "\n",
        "x_train /= 255\n",
        "x_test /= 255\n",
        "\n",
        "y_test = tf.keras.utils.to_categorical(y_test, 10)\n",
        "y_train = tf.keras.utils.to_categorical(y_train, 10)"
      ],
      "execution_count": 0,
      "outputs": []
    },
    {
      "cell_type": "code",
      "metadata": {
        "id": "0_l7Kx4-utdw",
        "colab_type": "code",
        "colab": {}
      },
      "source": [
        "\n",
        "model=Sequential()\n",
        "model.add(Conv2D(64, (3,3), activation=\"relu\", input_shape=(28,28,1)))\n",
        "model.add(Conv2D(64, (3,3), activation=\"relu\"))\n",
        "model.add(MaxPooling2D(pool_size=(2,2)))\n",
        "model.add(BatchNormalization())\n",
        "model.add(Conv2D(128, (3,3), activation=\"relu\"))\n",
        "model.add(Conv2D(128, (3,3), activation=\"relu\"))\n",
        "model.add(MaxPooling2D(pool_size=(2,2)))\n",
        "model.add(BatchNormalization())    \n",
        "model.add(Conv2D(256, (3,3), activation=\"relu\"))\n",
        "model.add(MaxPooling2D(pool_size=(2,2)))\n",
        "model.add(Flatten())\n",
        "model.add(BatchNormalization())\n",
        "model.add(Dense(784,activation=\"relu\"))\n",
        "model.add(Dense(10,activation=\"softmax\"))\n",
        "model.compile(loss=\"categorical_crossentropy\", optimizer=\"adam\", \n",
        "        metrics=[\"accuracy\"])\n",
        "model.summary()\n",
        "\n",
        "epochs = 12\n",
        "batch_size = 80\n",
        "datagen = ImageDataGenerator(rotation_range=10,  zoom_range = 0.1, \n",
        "                             width_shift_range=0.1,  height_shift_range=0.1)  \n",
        "\n",
        "\n",
        "\n",
        "train_gen = datagen.flow(x_train, y_train, batch_size=batch_size)\n",
        "test_gen = datagen.flow(x_test, y_test, batch_size=batch_size)\n",
        "\n",
        "history = model.fit_generator(train_gen, \n",
        "                              epochs = epochs, \n",
        "                              steps_per_epoch = x_train.shape[0] // batch_size,\n",
        "                              validation_data = test_gen,\n",
        "                              validation_steps = x_test.shape[0] // batch_size)\n",
        "\n",
        "# model.fit(x_train, y_train, epochs=12, batch_size=200, validation_data=(x_test, y_test), verbose=1)\n",
        "\n"
      ],
      "execution_count": 0,
      "outputs": []
    },
    {
      "cell_type": "code",
      "metadata": {
        "id": "nO1tEVaiDGlG",
        "colab_type": "code",
        "outputId": "bad192e1-b9ed-44c9-fdb2-208275f4922c",
        "colab": {
          "base_uri": "https://localhost:8080/",
          "height": 122
        }
      },
      "source": [
        "from google.colab import drive\n",
        "drive.mount('/content/drive')"
      ],
      "execution_count": 0,
      "outputs": [
        {
          "output_type": "stream",
          "text": [
            "Go to this URL in a browser: https://accounts.google.com/o/oauth2/auth?client_id=947318989803-6bn6qk8qdgf4n4g3pfee6491hc0brc4i.apps.googleusercontent.com&redirect_uri=urn%3aietf%3awg%3aoauth%3a2.0%3aoob&response_type=code&scope=email%20https%3a%2f%2fwww.googleapis.com%2fauth%2fdocs.test%20https%3a%2f%2fwww.googleapis.com%2fauth%2fdrive%20https%3a%2f%2fwww.googleapis.com%2fauth%2fdrive.photos.readonly%20https%3a%2f%2fwww.googleapis.com%2fauth%2fpeopleapi.readonly\n",
            "\n",
            "Enter your authorization code:\n",
            "··········\n",
            "Mounted at /content/drive\n"
          ],
          "name": "stdout"
        }
      ]
    },
    {
      "cell_type": "code",
      "metadata": {
        "id": "F4bME31mv8as",
        "colab_type": "code",
        "outputId": "5faa4098-78fb-4c6f-deec-2dc9fb10e5a8",
        "colab": {
          "base_uri": "https://localhost:8080/",
          "height": 51
        }
      },
      "source": [
        "model.evaluate(x_test, y_test)\n"
      ],
      "execution_count": 0,
      "outputs": [
        {
          "output_type": "stream",
          "text": [
            "10000/10000 [==============================] - 1s 87us/sample - loss: 0.0139 - acc: 0.9953\n"
          ],
          "name": "stdout"
        },
        {
          "output_type": "execute_result",
          "data": {
            "text/plain": [
              "[0.013856665517588499, 0.9953]"
            ]
          },
          "metadata": {
            "tags": []
          },
          "execution_count": 9
        }
      ]
    },
    {
      "cell_type": "code",
      "metadata": {
        "id": "iJ7tcX9JwBoq",
        "colab_type": "code",
        "colab": {}
      },
      "source": [
        "model.save('cnn_model.h5')\n"
      ],
      "execution_count": 0,
      "outputs": []
    },
    {
      "cell_type": "code",
      "metadata": {
        "id": "MMjMgtdFS6FD",
        "colab_type": "code",
        "colab": {}
      },
      "source": [
        "new_model = tf.keras.models.load_model('cnn_model.h5')"
      ],
      "execution_count": 0,
      "outputs": []
    },
    {
      "cell_type": "code",
      "metadata": {
        "id": "9f8NFIF1Te43",
        "colab_type": "code",
        "colab": {}
      },
      "source": [
        "import pandas as pd\n",
        "test_data = pd.read_csv('test.csv')\n",
        "test_data = test_data.values\n",
        "test_data = test_data.reshape(test_data.shape[0], 28, 28, 1)\n",
        "\n",
        "test_data = test_data.astype('float32')\n",
        "\n",
        "test_data /= 255\n"
      ],
      "execution_count": 0,
      "outputs": []
    },
    {
      "cell_type": "code",
      "metadata": {
        "id": "8-8BOhO_UEyn",
        "colab_type": "code",
        "outputId": "8f529a72-ef75-43e0-f7ea-3ef605087af1",
        "colab": {
          "base_uri": "https://localhost:8080/",
          "height": 238
        }
      },
      "source": [
        "pred = new_model.predict(test_data)\n",
        "print(pred, pred.shape)"
      ],
      "execution_count": 0,
      "outputs": [
        {
          "output_type": "stream",
          "text": [
            "[[2.93163596e-17 1.70464456e-21 1.00000000e+00 ... 6.72783182e-17\n",
            "  6.98461601e-12 3.20942087e-18]\n",
            " [9.99994278e-01 5.04864671e-14 6.95545907e-07 ... 1.18114185e-10\n",
            "  7.63862857e-08 4.11178320e-07]\n",
            " [8.70452954e-09 1.44128156e-12 3.66300228e-05 ... 5.80073731e-08\n",
            "  1.48253001e-08 9.99962926e-01]\n",
            " ...\n",
            " [6.03751879e-22 1.64941637e-19 1.41484264e-17 ... 4.22164809e-19\n",
            "  9.47030269e-16 7.41107886e-14]\n",
            " [6.71984992e-08 8.65653826e-10 4.98339034e-07 ... 5.04291165e-07\n",
            "  1.17461045e-08 9.99990940e-01]\n",
            " [1.12933845e-22 1.72299047e-27 1.00000000e+00 ... 9.12541875e-22\n",
            "  3.74823802e-14 4.01800534e-22]] (28000, 10)\n"
          ],
          "name": "stdout"
        }
      ]
    },
    {
      "cell_type": "code",
      "metadata": {
        "id": "CmKTN09UVADH",
        "colab_type": "code",
        "colab": {}
      },
      "source": [
        "p = np.argmax(pred, axis=1)\n",
        "final = pd.DataFrame({'ImageId': np.arange(1, 28001), 'Label': p})\n",
        "final = final.set_index('ImageId')\n",
        "final.to_csv('submission.csv')"
      ],
      "execution_count": 0,
      "outputs": []
    }
  ]
}